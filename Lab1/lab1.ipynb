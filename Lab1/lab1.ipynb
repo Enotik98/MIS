{
 "cells": [
  {
   "cell_type": "code",
   "execution_count": 13,
   "metadata": {
    "vscode": {
     "languageId": "html"
    }
   },
   "outputs": [
    {
     "data": {
      "text/html": [
       "<svg width=\"450\" height=\"300\" xmlns=\"http://www.w3.org/2000/svg\" fill=\"green\">\n",
       "  <rect width=\"450\" height=\"300\"  fill=\"#298861\"></rect>?\n",
       "\n",
       "  <polygon points=\"0,0 0,300  450,150\" style=\"fill:#FEB82E; stroke: white;stroke-width:5;\"></polygon>\n",
       "  <polygon points=\"0,0 0,300  200,150\" style=\"fill:#B41A2A; stroke: black;stroke-width:5;\"></polygon>\n",
       "</svg>\n"
      ],
      "text/plain": [
       "<IPython.core.display.HTML object>"
      ]
     },
     "metadata": {},
     "output_type": "display_data"
    }
   ],
   "source": [
    "%%HTML\n",
    "<svg width=\"450\" height=\"300\" xmlns=\"http://www.w3.org/2000/svg\" fill=\"green\">\n",
    "  <rect width=\"450\" height=\"300\"  fill=\"#298861\"></rect>?\n",
    "\n",
    "  <polygon points=\"0,0 0,300  450,150\" style=\"fill:#FEB82E; stroke: white;stroke-width:5;\"></polygon>\n",
    "  <polygon points=\"0,0 0,300  200,150\" style=\"fill:#B41A2A; stroke: black;stroke-width:5;\"></polygon>\n",
    "</svg>"
   ]
  },
  {
   "cell_type": "markdown",
   "metadata": {},
   "source": [
    "<h1 style=\"text-aline: center;\">Країна Гайана</h1>"
   ]
  },
  {
   "cell_type": "markdown",
   "metadata": {},
   "source": [
    "<h3><strong>Виконала: </strong>Бондаревська Поліна, ІПС-41</h3>"
   ]
  },
  {
   "cell_type": "markdown",
   "metadata": {},
   "source": [
    "<h4><u>Коротка інформація про країну:</u></h4>"
   ]
  },
  {
   "cell_type": "markdown",
   "metadata": {},
   "source": [
    "<ul>\n",
    "    <li><strong>Площа: </strong> 214 969 км²</li>\n",
    "    <li><strong>Населення: </strong> Близько 780 тис. осіб</li>\n",
    "    <li><strong>Столиця: </strong> Джорджтаун</li>\n",
    "    <li><strong>Офіційна мова: </strong> Англійська</li>\n",
    "    <li><div style=\"display:flex\"><strong>Розташування: </strong> Північна Америка <p><img src=\"https://upload.wikimedia.org/wikipedia/commons/thumb/8/80/Guyana%2C_administrative_divisions_-_de_-_colored.svg/231px-Guyana%2C_administrative_divisions_-_de_-_colored.svg.png\" style=\"margin: 0 auto; border: 4px solid gray; border-radius: 5px\" ></p></div></li>\n",
    "    <li>\n",
    "        <strong>Адміністративний поділ: </strong> \n",
    "        <p style=\"color: gray;\">Гаяна поділяється на 10 регіонів: </p>\n",
    "    </li>"
   ]
  },
  {
   "cell_type": "markdown",
   "metadata": {},
   "source": [
    "| # | Регіон | Площа км² | Населення | Населення на км²|\n",
    "|---|--------|-----------|-----------|-----------------|\n",
    "| 1 | Барима-Вані | 20.339 | 24.275 | 1.2 |\n",
    "| 2 | Померун-Супенаам | 6.195 | 49.253 | 8.0 |\n",
    "| 3 | Острови Есекібо-Західна Демерара | 2.232 | 103.061 | 46.2 |\n",
    "| 4 | Демерара-Махайка | 1.843 | 310.320 | 168.4 |\n",
    "| 5 | Махайка-Бербіс | 3.755 | 52.428 | 14.0 |\n",
    "| 6 | Східний Бербіс-Корентайн | 36,234 | 123,695 | 3.4 |\n",
    "| 7\t| Куюні-Мазаруні | 47,213 | 17,597 | 0.3 |\n",
    "| 8 | Потаро-Сипаруні | 20,051 | 10,095 | 0.5 |\n",
    "| 9 | Верхнє Такуту-Верхня Есекібо | 57,750 | 19,387 | 1.3 |\n",
    "| 10 | Верхня Демерара-Бербіс | 19,387 | 41,112 | 2.1 |\n",
    "|  | Гаяна | 214,999 | 751,223 | 3.49 |"
   ]
  },
  {
   "cell_type": "markdown",
   "metadata": {},
   "source": [
    " <li><strong>Державний устрій: </strong>\n",
    "        <p>Гайана є конституціною демократиєю з параметсько-президенською формою уряду.</p>\n",
    "</li>"
   ]
  },
  {
   "cell_type": "markdown",
   "metadata": {},
   "source": [
    "<li><strong>Видатні особистості:</strong> <p style=\"color: gray;\">Декілька видатних ососбистостей, які внесли важливий вклад</p>\n",
    "<ol>\n",
    "  <li>\n",
    "    <strong>Чедвік Джагдео</strong>\n",
    "    <ul>\n",
    "      <li>Посада: прем'єр-міністр і президент</li>\n",
    "      <li>Біографія: <a href=\"https://uk.wikipedia.org/wiki/Форбс_Бернем\">Форбс Бернем</a></li>\n",
    "    </ul>\n",
    "  </li>\n",
    "  <li>\n",
    "    <strong>Джінджер Джаган</strong>\n",
    "    <ul>\n",
    "      <li>Посада: Перший президент</li>\n",
    "      <li>Біографія: <a href=\"https://uk.wikipedia.org/wiki/Дженет_Джаган\">Дженет Джаган</a></li>\n",
    "    </ul>\n",
    "  </li>\n",
    "</ol>\n",
    "</li>"
   ]
  },
  {
   "cell_type": "markdown",
   "metadata": {},
   "source": [
    "<li><strong>Пам'ятки культури та природи: </strong>\n",
    "<ol style=\"border: 3px solid gray; border-radius: 4px;\">\n",
    "  <li>\n",
    "    <strong>Культурні пам'ятки:</strong>\n",
    "    <ul>\n",
    "      <li>Музей національної мистецтва Гайани</li>\n",
    "      <li>Старовинне місто Стаброк</li>\n",
    "    </ul>\n",
    "  </li>\n",
    "  <li>\n",
    "    <strong>Природні пам'ятки:</strong>\n",
    "    <ul>\n",
    "      <li>Природний парк Кайетур</li>\n",
    "      <li>Водоспад Кайетур</li>\n",
    "    </ul>\n",
    "  </li>\n",
    "</ol>"
   ]
  },
  {
   "cell_type": "markdown",
   "metadata": {},
   "source": [
    "<li><strong>Природа: </strong>\n",
    "<p>Гайана славиться своєю багатою природою, включаючи тропічні ліси, багаті біорізноманіттям річки та унікальні види флори та фауни.</p>\n",
    "</li>"
   ]
  },
  {
   "cell_type": "markdown",
   "metadata": {},
   "source": [
    "<h3>Завдання 5</h3>\n",
    "<p><u>Умова:</u> Вводиться список цілих чисел. Знайти число,або кортеж чисел, що буде знаходитися рівно в середині списку, якщо список відсортувати. Список вводиться в рядок через пробіл.</p>"
   ]
  },
  {
   "cell_type": "code",
   "execution_count": 1,
   "metadata": {},
   "outputs": [],
   "source": [
    "def find_middle_element(numbers):\n",
    "    try:\n",
    "        numbers_list = list(map(int, numbers.split()))\n",
    "    except ValueError:\n",
    "        print(numbers)\n",
    "        print(\"Помилка: введено неціле число.\")\n",
    "        return None\n",
    "\n",
    "    sorted_numbers = sorted(numbers_list)\n",
    "\n",
    "    middle_index = len(sorted_numbers) // 2\n",
    "\n",
    "    if len(sorted_numbers) % 2 == 0:\n",
    "        second_middle_index = middle_index - 1\n",
    "        return (sorted_numbers[second_middle_index], sorted_numbers[middle_index])\n",
    "    else:\n",
    "        return sorted_numbers[middle_index]\n",
    "\n",
    "def task_5():\n",
    "    input_numbers = input(\"Введіть список цілих чисел через пробіл: \")\n",
    "\n",
    "    result = find_middle_element(input_numbers)\n",
    "    if result is not None:\n",
    "        print(input_numbers)\n",
    "        print(result, ' - це середина відсортованого списку')\n"
   ]
  },
  {
   "cell_type": "code",
   "execution_count": 26,
   "metadata": {},
   "outputs": [
    {
     "name": "stdout",
     "output_type": "stream",
     "text": [
      "2 4 5 1 7\n",
      "4  - це середина відсортованого списку\n"
     ]
    }
   ],
   "source": [
    "task_5()"
   ]
  },
  {
   "cell_type": "code",
   "execution_count": 27,
   "metadata": {},
   "outputs": [
    {
     "name": "stdout",
     "output_type": "stream",
     "text": [
      "7 3 1 7 4 2 8 2\n",
      "(3, 4)  - це середина відсортованого списку\n"
     ]
    }
   ],
   "source": [
    "task_5()"
   ]
  },
  {
   "cell_type": "code",
   "execution_count": 28,
   "metadata": {},
   "outputs": [
    {
     "name": "stdout",
     "output_type": "stream",
     "text": [
      "3 4 6 sr 8\n",
      "Помилка: введено неціле число.\n"
     ]
    }
   ],
   "source": [
    "task_5()"
   ]
  },
  {
   "cell_type": "code",
   "execution_count": 29,
   "metadata": {},
   "outputs": [
    {
     "name": "stdout",
     "output_type": "stream",
     "text": [
      "4 6 7 4.5 2\n",
      "Помилка: введено неціле число.\n"
     ]
    }
   ],
   "source": [
    "task_5()"
   ]
  }
 ],
 "metadata": {
  "kernelspec": {
   "display_name": "Python 3",
   "language": "python",
   "name": "python3"
  },
  "language_info": {
   "codemirror_mode": {
    "name": "ipython",
    "version": 3
   },
   "file_extension": ".py",
   "mimetype": "text/x-python",
   "name": "python",
   "nbconvert_exporter": "python",
   "pygments_lexer": "ipython3",
   "version": "3.11.4"
  }
 },
 "nbformat": 4,
 "nbformat_minor": 2
}
