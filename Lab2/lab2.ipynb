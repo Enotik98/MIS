{
 "cells": [
  {
   "cell_type": "markdown",
   "metadata": {},
   "source": [
    "<h1>Лабораторна робота №2</h1>\n",
    "<h2>Варіант 3</h2>\n",
    "<h2>Бондаревська Поліна, ІПС-41</h2>"
   ]
  },
  {
   "cell_type": "markdown",
   "metadata": {},
   "source": [
    "<h3>Завдання №1</h3>\n",
    "<p>1 3 6 7 8 11 16 18 19</p>"
   ]
  },
  {
   "cell_type": "code",
   "execution_count": 9,
   "metadata": {},
   "outputs": [],
   "source": [
    "import numpy as np\n",
    "import random"
   ]
  },
  {
   "cell_type": "markdown",
   "metadata": {
    "vscode": {
     "languageId": "latex"
    }
   },
   "source": [
    "*Вправа 1.* Вводиться число $ n $. Вивести масив розміру $ n $ x $ n $, в якому по діагоналі йдуть числа від 1 до $ n $, а інші числа дорівнюють 0."
   ]
  },
  {
   "cell_type": "code",
   "execution_count": 10,
   "metadata": {},
   "outputs": [],
   "source": [
    "# Task 1\n",
    "def task_1(n):\n",
    "    a = np.array([x+1 for x in range(n)])\n",
    "    return np.diag(a)\n",
    "#only python \n",
    "def task_1_py(n):\n",
    "    a = [\n",
    "        [i + 1 if i == j else 0 for i in range(n)]\n",
    "        for j in range(n)\n",
    "    ]\n",
    "    return a"
   ]
  },
  {
   "cell_type": "code",
   "execution_count": 13,
   "metadata": {},
   "outputs": [
    {
     "name": "stdout",
     "output_type": "stream",
     "text": [
      "37.5 µs ± 11.6 µs per loop (mean ± std. dev. of 7 runs, 100 loops each)\n"
     ]
    }
   ],
   "source": [
    "%timeit -n 100 task_1(100) #numpy"
   ]
  },
  {
   "cell_type": "code",
   "execution_count": 19,
   "metadata": {},
   "outputs": [
    {
     "name": "stdout",
     "output_type": "stream",
     "text": [
      "570 µs ± 66.3 µs per loop (mean ± std. dev. of 7 runs, 100 loops each)\n"
     ]
    }
   ],
   "source": [
    "%timeit -n 100 task_1_py(100) #python"
   ]
  },
  {
   "cell_type": "markdown",
   "metadata": {},
   "source": [
    "**Висновок** Numpy швидше приблизно в 18.6 разів."
   ]
  },
  {
   "cell_type": "markdown",
   "metadata": {},
   "source": [
    "*Вправа 3.* Вводяться 4 числа $ n, m, r, c. $ Вивести масив розміру $ n $ x $ m $, в якому в кожному рядку з номером $ r $ і в кожному стовпчику з номером $ c $ стоять 0, а інші елелементи дорівнюють 1."
   ]
  },
  {
   "cell_type": "code",
   "execution_count": 28,
   "metadata": {},
   "outputs": [],
   "source": [
    "# 3\n",
    "def task_3(n, m, r, c):\n",
    "    a = np.ones((n, m), dtype=int)\n",
    "    a[:, ::c] = 0 \n",
    "    a[::r, :] = 0\n",
    "    return a\n",
    "\n",
    "def task_3_py(n, m, r, c):\n",
    "    a = [\n",
    "        [0 if j % r == 0 or i % c == 0 else 1 for i in range(m)]\n",
    "        for j in range(n)\n",
    "    ]\n",
    "    return a"
   ]
  },
  {
   "cell_type": "code",
   "execution_count": 29,
   "metadata": {},
   "outputs": [
    {
     "name": "stdout",
     "output_type": "stream",
     "text": [
      "5.83 µs ± 1.5 µs per loop (mean ± std. dev. of 7 runs, 100 loops each)\n"
     ]
    }
   ],
   "source": [
    "%timeit -n 100 task_3(6, 7, 2, 3) #numpy"
   ]
  },
  {
   "cell_type": "code",
   "execution_count": 32,
   "metadata": {},
   "outputs": [
    {
     "name": "stdout",
     "output_type": "stream",
     "text": [
      "12.6 µs ± 6.94 µs per loop (mean ± std. dev. of 7 runs, 100 loops each)\n"
     ]
    }
   ],
   "source": [
    "%timeit -n 100 task_3_py(6, 7, 2, 3) #python"
   ]
  },
  {
   "cell_type": "markdown",
   "metadata": {},
   "source": [
    "**Висновок** Numpy швидше приблизно в 2,16 разів."
   ]
  },
  {
   "cell_type": "markdown",
   "metadata": {},
   "source": [
    "*Вправа 6.* З клавіатури вводиться масив. Замінити всі ненульові елементи на -1."
   ]
  },
  {
   "cell_type": "code",
   "execution_count": 40,
   "metadata": {},
   "outputs": [],
   "source": [
    "# 6\n",
    "def task_6(a):\n",
    "    r = np.array(a)\n",
    "    r[r > 0] = -1\n",
    "    return r\n",
    "\n",
    "def task_6_py(a):\n",
    "    r = [-1 if i > 0 else 0 for i in a]\n",
    "    return r"
   ]
  },
  {
   "cell_type": "code",
   "execution_count": 41,
   "metadata": {},
   "outputs": [],
   "source": [
    "arr = [3, 4, 0, 9, 7, 0, 6, 0, 4, 0, 3]"
   ]
  },
  {
   "cell_type": "code",
   "execution_count": 42,
   "metadata": {},
   "outputs": [
    {
     "name": "stdout",
     "output_type": "stream",
     "text": [
      "4.43 µs ± 1.58 µs per loop (mean ± std. dev. of 7 runs, 100 loops each)\n"
     ]
    }
   ],
   "source": [
    "%timeit -n 100 task_6(arr) #numpy"
   ]
  },
  {
   "cell_type": "code",
   "execution_count": 43,
   "metadata": {},
   "outputs": [
    {
     "name": "stdout",
     "output_type": "stream",
     "text": [
      "979 ns ± 184 ns per loop (mean ± std. dev. of 7 runs, 100 loops each)\n"
     ]
    }
   ],
   "source": [
    "%timeit -n 100 task_6_py(arr) #python"
   ]
  },
  {
   "cell_type": "markdown",
   "metadata": {},
   "source": [
    "**Висновок** Numpy швидше приблизно в 4,53 рази."
   ]
  },
  {
   "cell_type": "markdown",
   "metadata": {},
   "source": [
    "*Вправа 7.* З клавіатури вводиться масив. Замінити всі нульові елементи на -1."
   ]
  },
  {
   "cell_type": "code",
   "execution_count": 51,
   "metadata": {},
   "outputs": [],
   "source": [
    "#7\n",
    "def task_7(a):\n",
    "    r = np.array(a)\n",
    "    r[r == 0] = -1\n",
    "    return r\n",
    "\n",
    "def task_7_py(a):\n",
    "    r = [-1 if i == 0 else i for i in a]\n",
    "    return r"
   ]
  },
  {
   "cell_type": "code",
   "execution_count": 52,
   "metadata": {},
   "outputs": [],
   "source": [
    "arr = [3, 4, 0, 6, 5, 0, 3, 0, 4]"
   ]
  },
  {
   "cell_type": "code",
   "execution_count": 53,
   "metadata": {},
   "outputs": [
    {
     "name": "stdout",
     "output_type": "stream",
     "text": [
      "4.06 µs ± 237 ns per loop (mean ± std. dev. of 7 runs, 100 loops each)\n"
     ]
    }
   ],
   "source": [
    "%timeit -n 100 task_7(arr) #numpy"
   ]
  },
  {
   "cell_type": "code",
   "execution_count": 54,
   "metadata": {},
   "outputs": [
    {
     "name": "stdout",
     "output_type": "stream",
     "text": [
      "725 ns ± 18.6 ns per loop (mean ± std. dev. of 7 runs, 100 loops each)\n"
     ]
    }
   ],
   "source": [
    "%timeit -n 100 task_7_py(arr) #python"
   ]
  },
  {
   "cell_type": "markdown",
   "metadata": {},
   "source": [
    "**Висновок** Numpy швидше приблизно в 5,59 рази."
   ]
  },
  {
   "cell_type": "markdown",
   "metadata": {},
   "source": [
    "*Вправа 8.* З клавіатури вводиться масив Підрахувати в ньому кількість нульових та ненульових елементів."
   ]
  },
  {
   "cell_type": "code",
   "execution_count": 73,
   "metadata": {},
   "outputs": [],
   "source": [
    "#8\n",
    "def task_8(arr):\n",
    "    r = np.array(arr)\n",
    "    count_zeros = np.count_nonzero(r == 0)\n",
    "    count_nonzeros = np.count_nonzero(r != 0)\n",
    "    return count_zeros, count_nonzeros\n",
    "\n",
    "def task_8_py(arr):\n",
    "    count_zeros = sum(1 for i in arr if i == 0)\n",
    "    count_nonzeros = sum(1 for i in arr if i != 0)\n",
    "    return count_zeros, count_nonzeros"
   ]
  },
  {
   "cell_type": "code",
   "execution_count": 74,
   "metadata": {},
   "outputs": [],
   "source": [
    "arr = [3, 4, 0, 9, 8, 2 ,4, 0 ,8, 4, 0]"
   ]
  },
  {
   "cell_type": "code",
   "execution_count": 75,
   "metadata": {},
   "outputs": [
    {
     "name": "stdout",
     "output_type": "stream",
     "text": [
      "9.7 µs ± 3.35 µs per loop (mean ± std. dev. of 7 runs, 100 loops each)\n"
     ]
    }
   ],
   "source": [
    "%timeit -n 100 task_8(arr) #numpy"
   ]
  },
  {
   "cell_type": "code",
   "execution_count": 76,
   "metadata": {},
   "outputs": [
    {
     "name": "stdout",
     "output_type": "stream",
     "text": [
      "2.01 µs ± 340 ns per loop (mean ± std. dev. of 7 runs, 100 loops each)\n"
     ]
    }
   ],
   "source": [
    "%timeit -n 100 task_8_py(arr) #python"
   ]
  },
  {
   "cell_type": "markdown",
   "metadata": {},
   "source": [
    "**Висновок** Numpy повільніше приблизно в 4,61 рази. Через це він не є найкращим вибором для обробки великих масивів"
   ]
  },
  {
   "cell_type": "markdown",
   "metadata": {},
   "source": [
    "*Вправа 11.* Створити масив одиниць розміром $ n $ x $ n $ та додати до нього \"рамку\", що утворюється з 0."
   ]
  },
  {
   "cell_type": "code",
   "execution_count": 81,
   "metadata": {},
   "outputs": [],
   "source": [
    "#11\n",
    "def task_11(n):\n",
    "    arr = np.ones((n, n), dtype=int)\n",
    "    arr[1:-1, 1:-1] = 0\n",
    "    return arr\n",
    "def task_11_py(n):\n",
    "    arr = [[1] * n for _ in range(n)]\n",
    "    for i in range(1, n - 1):\n",
    "        for j in range(1, n - 1):\n",
    "            arr[i][j] = 0\n",
    "    return arr"
   ]
  },
  {
   "cell_type": "code",
   "execution_count": 86,
   "metadata": {},
   "outputs": [
    {
     "name": "stdout",
     "output_type": "stream",
     "text": [
      "5.35 µs ± 1.79 µs per loop (mean ± std. dev. of 7 runs, 100 loops each)\n"
     ]
    }
   ],
   "source": [
    "%timeit -n 100 task_11(20) #numpy"
   ]
  },
  {
   "cell_type": "code",
   "execution_count": 87,
   "metadata": {},
   "outputs": [
    {
     "name": "stdout",
     "output_type": "stream",
     "text": [
      "33.7 µs ± 7.92 µs per loop (mean ± std. dev. of 7 runs, 100 loops each)\n"
     ]
    }
   ],
   "source": [
    "%timeit -n 100 task_11_py(20) #python"
   ]
  },
  {
   "cell_type": "markdown",
   "metadata": {},
   "source": [
    "**Висновок** Numpy швидше приблизно в 6,29 рази."
   ]
  },
  {
   "cell_type": "markdown",
   "metadata": {},
   "source": [
    "*Вправа 16* Заповнити вектор значеннями від 0 до $ n $. Всі значення, що більші за $ n/4 $ та меньші за $ 3n/4 $ замінити нулями."
   ]
  },
  {
   "cell_type": "code",
   "execution_count": 97,
   "metadata": {},
   "outputs": [],
   "source": [
    "#9\n",
    "def task_16(n):\n",
    "    vec = np.arange(n)\n",
    "    mask = (vec > n/4) & (vec < 3*n/4)\n",
    "    vec[mask] = 0\n",
    "    return vec\n",
    "\n",
    "def task_16_py(n):\n",
    "    vec = list(range(n))\n",
    "    for i in range(len(vec)):\n",
    "        if n/4 < vec[i] < 3*n/4:\n",
    "            vec[i] = 0\n",
    "    return vec"
   ]
  },
  {
   "cell_type": "code",
   "execution_count": 98,
   "metadata": {},
   "outputs": [
    {
     "name": "stdout",
     "output_type": "stream",
     "text": [
      "15.8 µs ± 4.16 µs per loop (mean ± std. dev. of 7 runs, 100 loops each)\n"
     ]
    }
   ],
   "source": [
    "%timeit -n 100 task_16(100) #numpy"
   ]
  },
  {
   "cell_type": "code",
   "execution_count": 99,
   "metadata": {},
   "outputs": [
    {
     "name": "stdout",
     "output_type": "stream",
     "text": [
      "25.4 µs ± 7.04 µs per loop (mean ± std. dev. of 7 runs, 100 loops each)\n"
     ]
    }
   ],
   "source": [
    "%timeit -n 100 task_16_py(100) #python"
   ]
  },
  {
   "cell_type": "markdown",
   "metadata": {},
   "source": [
    "**Висновок** Numpy швидше приблизно в 1,6 рази."
   ]
  },
  {
   "cell_type": "markdown",
   "metadata": {},
   "source": [
    "*Вправа 18*. Згенерувати вектор з $ n $ випадкових чисел в діапазоні від 0 до 99. Визначити кількість унікальних чисел в послідовності."
   ]
  },
  {
   "cell_type": "code",
   "execution_count": 101,
   "metadata": {},
   "outputs": [],
   "source": [
    "#18\n",
    "def task_18(n):\n",
    "    vec = np.random.randint(0, 100, n)\n",
    "    count_unique = np.unique(vec).size\n",
    "    return count_unique\n",
    "\n",
    "def task_18_py(n):\n",
    "    vec = [np.random.randint(0, 100) for _ in range(n)]\n",
    "    count_unique = len(set(vec))\n",
    "    return count_unique"
   ]
  },
  {
   "cell_type": "code",
   "execution_count": 104,
   "metadata": {},
   "outputs": [
    {
     "name": "stdout",
     "output_type": "stream",
     "text": [
      "52 µs ± 8.79 µs per loop (mean ± std. dev. of 7 runs, 100 loops each)\n"
     ]
    }
   ],
   "source": [
    "%timeit -n 100 task_18(100) #numpy"
   ]
  },
  {
   "cell_type": "code",
   "execution_count": 105,
   "metadata": {},
   "outputs": [
    {
     "name": "stdout",
     "output_type": "stream",
     "text": [
      "460 µs ± 89.5 µs per loop (mean ± std. dev. of 7 runs, 100 loops each)\n"
     ]
    }
   ],
   "source": [
    "%timeit -n 100 task_18_py(100) #python"
   ]
  },
  {
   "cell_type": "markdown",
   "metadata": {},
   "source": [
    "**Висновок** Numpy швидше приблизно в 8,85 рази."
   ]
  },
  {
   "cell_type": "markdown",
   "metadata": {},
   "source": [
    "*Вправа 19.* Згенерувати вектор із $ n $ елементів, що рівномірно розміщені на інтервалі (0,1) - тобто обидва кінці інтервалу не включені. Значення вивести до 3 знаків після коми."
   ]
  },
  {
   "cell_type": "code",
   "execution_count": 117,
   "metadata": {},
   "outputs": [],
   "source": [
    "#19\n",
    "def task_19(n):\n",
    "    vec = np.linspace(0, 1, n, endpoint=False)[1:]\n",
    "    vec_rounded = np.round(vec, 3)\n",
    "    return vec_rounded\n",
    "\n",
    "def task_19_py(n):\n",
    "    interval_size = 1 / n\n",
    "    vec = [round(interval_size * i, 3) for i in range(1, n)]\n",
    "    return vec"
   ]
  },
  {
   "cell_type": "code",
   "execution_count": 118,
   "metadata": {},
   "outputs": [
    {
     "name": "stdout",
     "output_type": "stream",
     "text": [
      "65.7 µs ± 27.3 µs per loop (mean ± std. dev. of 7 runs, 100 loops each)\n"
     ]
    }
   ],
   "source": [
    "%timeit -n 100 task_19(100) #numpy"
   ]
  },
  {
   "cell_type": "code",
   "execution_count": 119,
   "metadata": {},
   "outputs": [
    {
     "name": "stdout",
     "output_type": "stream",
     "text": [
      "67.6 µs ± 5.91 µs per loop (mean ± std. dev. of 7 runs, 100 loops each)\n"
     ]
    }
   ],
   "source": [
    "%timeit -n 100 task_19_py(100) #python"
   ]
  },
  {
   "cell_type": "markdown",
   "metadata": {},
   "source": [
    "**Висновок** Numpy швидше приблизно в 1,02 рази"
   ]
  },
  {
   "cell_type": "markdown",
   "metadata": {},
   "source": [
    "<h3>Завдання 2</h3>"
   ]
  },
  {
   "cell_type": "markdown",
   "metadata": {},
   "source": [
    "\\begin{cases}\n",
    "x_1 + 2x_2 + 3x_3 + 4x_4 = 5 \\\\\n",
    "2x_1 + x_2 + 2x_3 + 3x_4 = 1 \\\\\n",
    "3x_1 + 2x_2 + x_3 + 2x_4 = 1 \\\\\n",
    "4x_1 + 3x_2 + 2x_3 + x_4 = -5\n",
    "\\end{cases}"
   ]
  },
  {
   "cell_type": "code",
   "execution_count": 120,
   "metadata": {},
   "outputs": [],
   "source": [
    "# Task 2\n",
    "\n",
    "def solve(matrix):\n",
    "    b = matrix[:, -1]\n",
    "    det = matrix[:, :-1]\n",
    "    dets = []\n",
    "    for i in range(matrix.shape[0]):\n",
    "        det_i = det.copy()\n",
    "        det_i[:, i] = b\n",
    "        dets.append(det_i)\n",
    "    det = np.linalg.det(det)\n",
    "    dets = [np.linalg.det(d) for d in dets]\n",
    "    solution = [d / det for d in dets]\n",
    "    return np.array(solution)\n",
    "\n",
    "matrix = [\n",
    "    [1, 2, 3, 4, 5],\n",
    "    [2, 1, 2, 3, 1],\n",
    "    [3, 2, 1, 2, 1],\n",
    "    [4, 3, 2, 1, -5]\n",
    "]\n",
    "matrix = np.array(matrix)"
   ]
  },
  {
   "cell_type": "code",
   "execution_count": 122,
   "metadata": {},
   "outputs": [
    {
     "name": "stdout",
     "output_type": "stream",
     "text": [
      "True\n"
     ]
    }
   ],
   "source": [
    "print(np.allclose(solve(matrix), np.linalg.solve(matrix[:, :-1], matrix[:, -1])))\n",
    "inv = np.linalg.inv(matrix[:, :-1])"
   ]
  },
  {
   "cell_type": "markdown",
   "metadata": {},
   "source": [
    "<h3>Завдання 3</h3>"
   ]
  },
  {
   "cell_type": "markdown",
   "metadata": {},
   "source": [
    "$$ 2(A - B)(A^2 + B) $$\n",
    "\n",
    "\\begin{equation*}\n",
    "A =\n",
    "\\begin{pmatrix}\n",
    "5 & 1 & 7 \\\\\n",
    "-10 & -2 & 1 \\\\\n",
    "0 & 1 & 2 \n",
    "\\end{pmatrix}\n",
    ",  \\quad\n",
    "B =\n",
    "\\begin{pmatrix}\n",
    "2 & 4 & 1 \\\\\n",
    "3 & 1 & 0 \\\\\n",
    "7 & 2 & 1 \n",
    "\\end{pmatrix}\n",
    "\\end{equation*}\n",
    "\n"
   ]
  },
  {
   "cell_type": "code",
   "execution_count": 152,
   "metadata": {},
   "outputs": [],
   "source": [
    "# Task 3\n",
    "\n",
    "def matrix_multiply(X, Y):\n",
    "    result = []\n",
    "    for i in range(len(X)):\n",
    "        row = []\n",
    "        for j in range(len(Y[0])):\n",
    "            total = 0\n",
    "            for k in range(len(Y)):\n",
    "                total += X[i][k] * Y[k][j]\n",
    "            row.append(total)\n",
    "        result.append(row)\n",
    "    return result\n",
    "\n",
    "def matrix_addition(X, Y):\n",
    "    result = []\n",
    "    for i in range(len(X)):\n",
    "        row = []\n",
    "        for j in range(len(X[0])):\n",
    "            row.append(X[i][j] + Y[i][j])\n",
    "        result.append(row)\n",
    "    return result\n",
    "\n",
    "def matrix_subtraction(X, Y):\n",
    "    result = []\n",
    "    for i in range(len(X)):\n",
    "        row = []\n",
    "        for j in range(len(X[0])):\n",
    "            row.append(X[i][j] - Y[i][j])\n",
    "        result.append(row)\n",
    "    return result\n",
    "\n",
    "def solve_np(a, b):\n",
    "    A = np.array(a)\n",
    "    B = np.array(b)\n",
    "    return 2 * np.dot(np.subtract(A, B), np.add(np.dot(A, A), B))\n",
    "\n",
    "def scalar_multiply(matrix, scalar):\n",
    "    result = []\n",
    "    for row in matrix:\n",
    "        new_row = [element * scalar for element in row]\n",
    "        result.append(new_row)\n",
    "    return result\n",
    "\n",
    "def solve_py(a, b):\n",
    "    A_squared = matrix_multiply(a, a)\n",
    "\n",
    "    # Обчислення (A - B)\n",
    "    A_minus_B = matrix_subtraction(a, b)\n",
    "\n",
    "    # Обчислення (A^2 + B)\n",
    "    A_squared_plus_B = matrix_addition(A_squared, b)\n",
    "\n",
    "    # Обчислення 2(A - B)(A^2 + B)\n",
    "    result = scalar_multiply(matrix_multiply(A_minus_B, A_squared_plus_B), 2)\n",
    "\n",
    "    return result"
   ]
  },
  {
   "cell_type": "code",
   "execution_count": 156,
   "metadata": {},
   "outputs": [
    {
     "data": {
      "text/plain": [
       "True"
      ]
     },
     "execution_count": 156,
     "metadata": {},
     "output_type": "execute_result"
    }
   ],
   "source": [
    "A = [[5, 1, 7],\n",
    "     [-10, -2, 1],\n",
    "     [0, 1, 2]]\n",
    "\n",
    "B = [[2, 4, 1],\n",
    "     [3, 1, 0],\n",
    "     [7, 2, 1]]\n",
    "\n",
    "np.allclose(solve_np(A, B), solve_py(A, B))"
   ]
  },
  {
   "cell_type": "code",
   "execution_count": 157,
   "metadata": {},
   "outputs": [
    {
     "name": "stdout",
     "output_type": "stream",
     "text": [
      "24 µs ± 4.46 µs per loop (mean ± std. dev. of 7 runs, 100 loops each)\n",
      "30.9 µs ± 4.49 µs per loop (mean ± std. dev. of 7 runs, 100 loops each)\n"
     ]
    }
   ],
   "source": [
    "%timeit -n 100 solve_np(A, B) #numpy\n",
    "%timeit -n 100 solve_py(A, B) #python"
   ]
  },
  {
   "cell_type": "markdown",
   "metadata": {},
   "source": [
    "**Висновок** Numpy швидше приблизно в 1,2875 рази"
   ]
  }
 ],
 "metadata": {
  "kernelspec": {
   "display_name": "Python 3",
   "language": "python",
   "name": "python3"
  },
  "language_info": {
   "codemirror_mode": {
    "name": "ipython",
    "version": 3
   },
   "file_extension": ".py",
   "mimetype": "text/x-python",
   "name": "python",
   "nbconvert_exporter": "python",
   "pygments_lexer": "ipython3",
   "version": "3.11.4"
  }
 },
 "nbformat": 4,
 "nbformat_minor": 2
}
